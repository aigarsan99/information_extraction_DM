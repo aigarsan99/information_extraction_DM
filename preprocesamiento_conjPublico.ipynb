{
  "nbformat": 4,
  "nbformat_minor": 0,
  "metadata": {
    "colab": {
      "name": "preprocesamiento_conjPublico.ipynb",
      "provenance": []
    },
    "kernelspec": {
      "name": "python3",
      "display_name": "Python 3"
    },
    "language_info": {
      "name": "python"
    }
  },
  "cells": [
    {
      "cell_type": "markdown",
      "source": [
        "# Notebook 1: Preprocesamiento de los datos\n",
        "\n",
        "\n"
      ],
      "metadata": {
        "id": "X9IKak3Q11nK"
      }
    },
    {
      "cell_type": "code",
      "execution_count": null,
      "metadata": {
        "colab": {
          "base_uri": "https://localhost:8080/"
        },
        "id": "ZIvIxX_31bqu",
        "outputId": "c49f51b1-e114-4e18-d297-89e635efcd04"
      },
      "outputs": [
        {
          "output_type": "stream",
          "name": "stdout",
          "text": [
            "[nltk_data] Downloading package stopwords to /root/nltk_data...\n",
            "[nltk_data]   Unzipping corpora/stopwords.zip.\n"
          ]
        }
      ],
      "source": [
        "# Librerías\n",
        "\n",
        "import pandas as pd\n",
        "import re\n",
        "import numpy as np\n",
        "\n",
        "#from itertools import chain, groupby\n",
        "from itertools import groupby\n",
        "from bs4 import BeautifulSoup\n",
        "from collections import Counter\n",
        "\n",
        "import nltk\n",
        "nltk.download('stopwords')\n",
        "from nltk.corpus import stopwords\n",
        "\n",
        "import spacy"
      ]
    },
    {
      "cell_type": "code",
      "source": [
        "from google.colab import drive\n",
        "drive.mount('/content/drive')"
      ],
      "metadata": {
        "colab": {
          "base_uri": "https://localhost:8080/"
        },
        "id": "QnsXR9ie3VzB",
        "outputId": "05109889-818c-4c20-e1f4-87bdd3f312a0"
      },
      "execution_count": null,
      "outputs": [
        {
          "output_type": "stream",
          "name": "stdout",
          "text": [
            "Mounted at /content/drive\n"
          ]
        }
      ]
    },
    {
      "cell_type": "code",
      "source": [
        "test = pd.read_csv('/content/drive/MyDrive/TFM_Diabetes/data/DM Dialogs.csv', sep = \";\")"
      ],
      "metadata": {
        "id": "0qHHG9zV3jui"
      },
      "execution_count": null,
      "outputs": []
    },
    {
      "cell_type": "code",
      "source": [
        "test.head(5)"
      ],
      "metadata": {
        "colab": {
          "base_uri": "https://localhost:8080/",
          "height": 206
        },
        "id": "tk_G3lJs4TvD",
        "outputId": "36d8004b-6c32-4a5b-928c-ce6f5a85c4c6"
      },
      "execution_count": null,
      "outputs": [
        {
          "output_type": "execute_result",
          "data": {
            "text/plain": [
              "                                       text\n",
              "0                         Hey, how are you?\n",
              "1              Hi! I'm feeling great today.\n",
              "2                    What did you do today?\n",
              "3  I played a baskeball match this morning.\n",
              "4                  How was it? Did you win?"
            ],
            "text/html": [
              "\n",
              "  <div id=\"df-924f6b09-670e-41f7-875c-604bc24c5617\">\n",
              "    <div class=\"colab-df-container\">\n",
              "      <div>\n",
              "<style scoped>\n",
              "    .dataframe tbody tr th:only-of-type {\n",
              "        vertical-align: middle;\n",
              "    }\n",
              "\n",
              "    .dataframe tbody tr th {\n",
              "        vertical-align: top;\n",
              "    }\n",
              "\n",
              "    .dataframe thead th {\n",
              "        text-align: right;\n",
              "    }\n",
              "</style>\n",
              "<table border=\"1\" class=\"dataframe\">\n",
              "  <thead>\n",
              "    <tr style=\"text-align: right;\">\n",
              "      <th></th>\n",
              "      <th>text</th>\n",
              "    </tr>\n",
              "  </thead>\n",
              "  <tbody>\n",
              "    <tr>\n",
              "      <th>0</th>\n",
              "      <td>Hey, how are you?</td>\n",
              "    </tr>\n",
              "    <tr>\n",
              "      <th>1</th>\n",
              "      <td>Hi! I'm feeling great today.</td>\n",
              "    </tr>\n",
              "    <tr>\n",
              "      <th>2</th>\n",
              "      <td>What did you do today?</td>\n",
              "    </tr>\n",
              "    <tr>\n",
              "      <th>3</th>\n",
              "      <td>I played a baskeball match this morning.</td>\n",
              "    </tr>\n",
              "    <tr>\n",
              "      <th>4</th>\n",
              "      <td>How was it? Did you win?</td>\n",
              "    </tr>\n",
              "  </tbody>\n",
              "</table>\n",
              "</div>\n",
              "      <button class=\"colab-df-convert\" onclick=\"convertToInteractive('df-924f6b09-670e-41f7-875c-604bc24c5617')\"\n",
              "              title=\"Convert this dataframe to an interactive table.\"\n",
              "              style=\"display:none;\">\n",
              "        \n",
              "  <svg xmlns=\"http://www.w3.org/2000/svg\" height=\"24px\"viewBox=\"0 0 24 24\"\n",
              "       width=\"24px\">\n",
              "    <path d=\"M0 0h24v24H0V0z\" fill=\"none\"/>\n",
              "    <path d=\"M18.56 5.44l.94 2.06.94-2.06 2.06-.94-2.06-.94-.94-2.06-.94 2.06-2.06.94zm-11 1L8.5 8.5l.94-2.06 2.06-.94-2.06-.94L8.5 2.5l-.94 2.06-2.06.94zm10 10l.94 2.06.94-2.06 2.06-.94-2.06-.94-.94-2.06-.94 2.06-2.06.94z\"/><path d=\"M17.41 7.96l-1.37-1.37c-.4-.4-.92-.59-1.43-.59-.52 0-1.04.2-1.43.59L10.3 9.45l-7.72 7.72c-.78.78-.78 2.05 0 2.83L4 21.41c.39.39.9.59 1.41.59.51 0 1.02-.2 1.41-.59l7.78-7.78 2.81-2.81c.8-.78.8-2.07 0-2.86zM5.41 20L4 18.59l7.72-7.72 1.47 1.35L5.41 20z\"/>\n",
              "  </svg>\n",
              "      </button>\n",
              "      \n",
              "  <style>\n",
              "    .colab-df-container {\n",
              "      display:flex;\n",
              "      flex-wrap:wrap;\n",
              "      gap: 12px;\n",
              "    }\n",
              "\n",
              "    .colab-df-convert {\n",
              "      background-color: #E8F0FE;\n",
              "      border: none;\n",
              "      border-radius: 50%;\n",
              "      cursor: pointer;\n",
              "      display: none;\n",
              "      fill: #1967D2;\n",
              "      height: 32px;\n",
              "      padding: 0 0 0 0;\n",
              "      width: 32px;\n",
              "    }\n",
              "\n",
              "    .colab-df-convert:hover {\n",
              "      background-color: #E2EBFA;\n",
              "      box-shadow: 0px 1px 2px rgba(60, 64, 67, 0.3), 0px 1px 3px 1px rgba(60, 64, 67, 0.15);\n",
              "      fill: #174EA6;\n",
              "    }\n",
              "\n",
              "    [theme=dark] .colab-df-convert {\n",
              "      background-color: #3B4455;\n",
              "      fill: #D2E3FC;\n",
              "    }\n",
              "\n",
              "    [theme=dark] .colab-df-convert:hover {\n",
              "      background-color: #434B5C;\n",
              "      box-shadow: 0px 1px 3px 1px rgba(0, 0, 0, 0.15);\n",
              "      filter: drop-shadow(0px 1px 2px rgba(0, 0, 0, 0.3));\n",
              "      fill: #FFFFFF;\n",
              "    }\n",
              "  </style>\n",
              "\n",
              "      <script>\n",
              "        const buttonEl =\n",
              "          document.querySelector('#df-924f6b09-670e-41f7-875c-604bc24c5617 button.colab-df-convert');\n",
              "        buttonEl.style.display =\n",
              "          google.colab.kernel.accessAllowed ? 'block' : 'none';\n",
              "\n",
              "        async function convertToInteractive(key) {\n",
              "          const element = document.querySelector('#df-924f6b09-670e-41f7-875c-604bc24c5617');\n",
              "          const dataTable =\n",
              "            await google.colab.kernel.invokeFunction('convertToInteractive',\n",
              "                                                     [key], {});\n",
              "          if (!dataTable) return;\n",
              "\n",
              "          const docLinkHtml = 'Like what you see? Visit the ' +\n",
              "            '<a target=\"_blank\" href=https://colab.research.google.com/notebooks/data_table.ipynb>data table notebook</a>'\n",
              "            + ' to learn more about interactive tables.';\n",
              "          element.innerHTML = '';\n",
              "          dataTable['output_type'] = 'display_data';\n",
              "          await google.colab.output.renderOutput(dataTable, element);\n",
              "          const docLink = document.createElement('div');\n",
              "          docLink.innerHTML = docLinkHtml;\n",
              "          element.appendChild(docLink);\n",
              "        }\n",
              "      </script>\n",
              "    </div>\n",
              "  </div>\n",
              "  "
            ]
          },
          "metadata": {},
          "execution_count": 6
        }
      ]
    },
    {
      "cell_type": "code",
      "source": [
        "# Diccionario para expandir las contracciones\n",
        "\n",
        "contraction_mapping_upper = {\"ain't\": \"is not\",\"can't\": \"cannot\", \"'cause\": \"because\", \"could've\": \"could have\", \n",
        "\n",
        "                           \"he'd\": \"he would\",\"he'll\": \"he will\", \"he's\": \"he is\", \"how'd\": \"how did\", \"how'd'y\": \"how do you\", \"how'll\": \"how will\", \"how's\": \"how is\",\n",
        "\n",
        "                           \"I'd\": \"I would\", \"I'd've\": \"I would have\", \"I'll\": \"I will\", \"I'll've\": \"I will have\",\"I'm\": \"I am\", \"I've\": \"I have\", \"i'd\": \"i would\",\n",
        "\n",
        "                           \"i'd've\": \"i would have\", \"i'll\": \"i will\",  \"i'll've\": \"i will have\",\"i'm\": \"i am\", \"i've\": \"i have\", \"it'd\": \"it would\",\n",
        "\n",
        "                           \"it'd've\": \"it would have\", \"it'll\": \"it will\", \"it'll've\": \"it will have\", \"let's\": \"let us\", \"ma'am\": \"madam\",\n",
        "\n",
        "                           \"mayn't\": \"may not\", \"might've\": \"might have\", \"mightn't've\": \"might not have\", \"must've\": \"must have\",\n",
        "\n",
        "                           \"mustn't've\": \"must not have\", \"needn't've\": \"need not have\",\"o'clock\": \"of the clock\",\n",
        "\n",
        "                           \"oughtn't\": \"ought not\", \"oughtn't've\": \"ought not have\", \"sha'n't\": \"shall not\", \"shan't've\": \"shall not have\",\n",
        "\n",
        "                           \"she'd\": \"she would\", \"she'd've\": \"she would have\", \"she'll\": \"she will\", \"she'll've\": \"she will have\",\n",
        "\n",
        "                           \"shouldn't've\": \"should not have\", \"so've\": \"so have\",\"so's\": \"so as\",\n",
        "\n",
        "                           \"this's\": \"this is\",\"that'd\": \"that would\", \"that'd've\": \"that would have\", \"that's\": \"that is\", \"there'd\": \"there would\",\n",
        "\n",
        "                           \"there'd've\": \"there would have\", \"there's\": \"there is\", \"here's\": \"here is\",\"they'd\": \"they would\", \"they'd've\": \"they would have\",\n",
        "\n",
        "                           \"they'll\": \"they will\", \"they'll've\": \"they will have\", \"they're\": \"they are\", \"they've\": \"they have\", \"to've\": \"to have\",\n",
        "\n",
        "                           \"we'd\": \"we would\", \"we'd've\": \"we would have\", \"we'll\": \"we will\", \"we'll've\": \"we will have\", \"we're\": \"we are\",\n",
        "\n",
        "                           \"we've\": \"we have\", \"what'll\": \"what will\", \"what'll've\": \"what will have\", \"what're\": \"what are\",\n",
        "\n",
        "                           \"what's\": \"what is\", \"what've\": \"what have\", \"when's\": \"when is\", \"when've\": \"when have\", \"where'd\": \"where did\", \"where's\": \"where is\",\n",
        "\n",
        "                           \"where've\": \"where have\", \"who'll\": \"who will\", \"who'll've\": \"who will have\", \"who's\": \"who is\", \"who've\": \"who have\",\n",
        "\n",
        "                           \"why's\": \"why is\", \"why've\": \"why have\", \"will've\": \"will have\", \"won't've\": \"will not have\",\n",
        "\n",
        "                           \"would've\": \"would have\", \"wouldn't've\": \"would not have\", \"y'all\": \"you all\",\n",
        "\n",
        "                           \"y'all'd\": \"you all would\",\"y'all'd've\": \"you all would have\",\"y'all're\": \"you all are\",\"y'all've\": \"you all have\",\n",
        "\n",
        "                           \"you'd've\": \"you would have\", \"you'll've\": \"you will have\"}\n",
        "\n",
        "contraction_mapping = dict((k.lower(), v) for k, v in contraction_mapping_upper .items()) # Convertir todas las clave-valor del diccionario a minúsculas\n",
        "\n",
        "# Stop words: palabras que no tienen un significado por sí solas (artículos, pronombres, preposiciones)\n",
        "stop_words = set(stopwords.words('english')) "
      ],
      "metadata": {
        "id": "i8bnQal6Umpc"
      },
      "execution_count": null,
      "outputs": []
    },
    {
      "cell_type": "code",
      "source": [
        "def clean_conversations(df, remove_stopwords):\n",
        "  clean = df.lower() #Todo en minúsculas\n",
        "  clean = re.sub(\"[^a-zA-Z 0-9 . ?]\", \" \", clean) #Eliminar símbolos raros, excepto interrogante\n",
        "  clean = clean.replace(\"?\", \" ?\") #Añadir un espacio delante de los interrogantes\n",
        "  clean = clean.replace(\".\", \" .\") #Añadir un espacio delante de los puntos\n",
        "\n",
        "  #Eliminar contracciones\n",
        "  #clean = ' '.join([contraction_mapping[t] if t in contraction_mapping else t for t in clean.split(\" \")])\n",
        "\n",
        "  start_words = [\"hello \", \"hi \", \"good morning \", \"good afternoon \", \"good evening \", \n",
        "                 \"good night \", \"hey \", \"yo \", \"what's up ? \"]\n",
        "  end_words = [\"goodbye \", \"bye bye \", \"bye \", \"see you soon\", \"you later \", \n",
        "               \"have a nice day \", \"take care \", \"good night \"]\n",
        "\n",
        "\n",
        "  #Sustituir saludos por <SOS>\n",
        "  for hello_word in start_words:\n",
        "    if hello_word in clean:\n",
        "      clean = clean.replace(hello_word, \"<SOS> \")\n",
        "\n",
        "  #Sustituir despedidas por <EOS>\n",
        "  for bye_word in end_words:\n",
        "    if bye_word in clean:\n",
        "      clean = clean.replace(bye_word, \"<EOS> \")\n",
        "\n",
        "  #Opcional: eliminar las stop words\n",
        "  if remove_stopwords:\n",
        "    tokens = [w for w in clean.split() if not w in stop_words] #Separar en tokens las palabras y eliminar las que sean stop words\n",
        "  else:\n",
        "    tokens = [w for w in clean.split()] #Separar en tokens las palabras\n",
        "\n",
        "  return (\" \".join(tokens).strip())"
      ],
      "metadata": {
        "id": "-VGz19cA6Qvx"
      },
      "execution_count": null,
      "outputs": []
    },
    {
      "cell_type": "code",
      "source": [
        "def join_conversations(df):\n",
        "  conjunto = []\n",
        "  conversation = []\n",
        "\n",
        "  i=0\n",
        "  while i < len(cleaned_text):\n",
        "    while \"<EOS>\" not in df[i]:\n",
        "      conversation.append(df[i])\n",
        "      i+=1\n",
        "    else:\n",
        "      conversation.append(df[i])\n",
        "      i+=1\n",
        "      all_conversation = (\" \".join(conversation).strip()) #ponerla en el buen formato\n",
        "      conjunto.append(all_conversation)\n",
        "      conversation = [] \n",
        "\n",
        "  return conjunto"
      ],
      "metadata": {
        "id": "bBXsaY8sdwrH"
      },
      "execution_count": null,
      "outputs": []
    },
    {
      "cell_type": "code",
      "source": [
        "cleaned_text = []\n",
        "cleaned_textSW = []\n",
        "for t in test['text']:\n",
        "  cleaned_text.append(clean_conversations(t, remove_stopwords = False))\n",
        "\n",
        "clean_dialogues = join_conversations(cleaned_text)\n",
        "\n",
        "\n",
        "cleaned_text_SW = []\n",
        "for t in test['text']:\n",
        "  cleaned_textSW.append(clean_conversations(t, remove_stopwords = True))\n",
        "\n",
        "clean_dialoguesSW = join_conversations(cleaned_textSW)"
      ],
      "metadata": {
        "id": "wBCvjzjY7NNb"
      },
      "execution_count": null,
      "outputs": []
    },
    {
      "cell_type": "code",
      "source": [
        "test['text']"
      ],
      "metadata": {
        "colab": {
          "base_uri": "https://localhost:8080/"
        },
        "id": "3KTmluCxVpJi",
        "outputId": "cd4686e8-3fcb-4492-fc6a-8329c4b764d8"
      },
      "execution_count": null,
      "outputs": [
        {
          "output_type": "execute_result",
          "data": {
            "text/plain": [
              "0                                      Hey, how are you?\n",
              "1                           Hi! I'm feeling great today.\n",
              "2                                 What did you do today?\n",
              "3               I played a baskeball match this morning.\n",
              "4                               How was it? Did you win?\n",
              "                             ...                        \n",
              "302    I should have, but I don't really remember if ...\n",
              "303    That could explain why you woke up high. You s...\n",
              "304    Yes, I will. At least this will make my hangov...\n",
              "305              Definetely. I hope you get better soon.\n",
              "306                           Thanks, talk to you later.\n",
              "Name: text, Length: 307, dtype: object"
            ]
          },
          "metadata": {},
          "execution_count": 11
        }
      ]
    },
    {
      "cell_type": "code",
      "source": [
        "# Inspeccionar las primeras conversaciones\n",
        "for i in range(3):\n",
        "    print(\"Conversación #\",i+1)\n",
        "    print(clean_dialogues[i])\n",
        "    print()"
      ],
      "metadata": {
        "colab": {
          "base_uri": "https://localhost:8080/"
        },
        "id": "eZQ_t--KVauO",
        "outputId": "e3604102-bc0f-4574-c177-8e3883c72ccc"
      },
      "execution_count": null,
      "outputs": [
        {
          "output_type": "stream",
          "name": "stdout",
          "text": [
            "Conversación # 1\n",
            "<SOS> how are you ? <SOS> i m feeling great today . what did you do today ? i played a baskeball match this morning . how was it ? did you win ? yes and i scored 40 points . wow you did an amazing match did the sport afect your glucose ? yes my sugar level was low after lunch . did you inject too much insulin ? yes i didn t take into account the exercise . next time think about the exercise when you calculate the insulin dose . yes i will . <EOS> .\n",
            "\n",
            "Conversación # 2\n",
            "<EOS> .\n",
            "\n",
            "Conversación # 3\n",
            "<SOS> <SOS> how is it going ? great i had a very good blood glucose level today . that s nice keep it up having a good glucose level is great . thank you but it may rise this afternoon . why is that ? because i just ate a big sandwich now . and did you put your insulin ? yes but maybe it was not enough . then you should check your glucose in an hour and a half and correct the dose if necessary . thanks for your advice . no problem see <EOS> .\n",
            "\n"
          ]
        }
      ]
    },
    {
      "cell_type": "code",
      "source": [
        "clean_dialogues_pd = pd.DataFrame(clean_dialogues)\n",
        "\n",
        "clean_dialogues_pd.to_csv(\"/content/drive/MyDrive/TFM_Diabetes/data/clean_dialogues.csv\", index = False)"
      ],
      "metadata": {
        "id": "251PKyJPL552"
      },
      "execution_count": null,
      "outputs": []
    },
    {
      "cell_type": "markdown",
      "source": [
        "### Análisis concreto de las palabras del texto: word embedding"
      ],
      "metadata": {
        "id": "GS_2IEAqTrSE"
      }
    },
    {
      "cell_type": "code",
      "source": [
        "def count_words(count_dict, text):\n",
        "    '''Cuenta el número de ocurrencias de cada palabra en una frase del texto'''\n",
        "    for sentence in text:\n",
        "        for word in sentence.split():\n",
        "            if word not in count_dict:\n",
        "                count_dict[word] = 1\n",
        "            else:\n",
        "                count_dict[word] += 1"
      ],
      "metadata": {
        "id": "bHn-t13_T1MM"
      },
      "execution_count": null,
      "outputs": []
    },
    {
      "cell_type": "code",
      "source": [
        "# Saber el número de veces que cada palabra se ha usado. Conocer el tamaño del vocabulario.\n",
        "word_counts = {}\n",
        "\n",
        "count_words(word_counts, clean_dialoguesSW)\n",
        "            \n",
        "print(\"Tamaño del vocabulario:\", len(word_counts))"
      ],
      "metadata": {
        "id": "WVT_0Dnyhtj0"
      },
      "execution_count": null,
      "outputs": []
    },
    {
      "cell_type": "code",
      "source": [
        "import operator\n",
        "sorted(word_counts.items(), key=operator.itemgetter(1), reverse=True )"
      ],
      "metadata": {
        "id": "mVV9JJSIh2an"
      },
      "execution_count": null,
      "outputs": []
    },
    {
      "cell_type": "markdown",
      "source": [
        "##### ***Word embedding***:  la forma de representación de los símbolos básicos\n",
        "\n",
        "ConceptNet Numberbatch es un conjunto de vectores semánticos (**word embeddings**) que permite comparar los significados de las palabras de forma numérica.  Se han descargados directamente del [GitHub](https://github.com/commonsense/conceptnet-numberbatch) del proyecto Open Mind Common Sense."
      ],
      "metadata": {
        "id": "_ooxTshIrk-f"
      }
    },
    {
      "cell_type": "code",
      "source": [
        "embeddings_index = {}\n",
        "with open('/content/drive/MyDrive/TFM/4. Abstraction summ (1)/ConceptNet/numberbatch-en.txt', encoding='utf-8') as f:\n",
        "    for line in f:\n",
        "        values = line.split(' ')\n",
        "        word = values[0]\n",
        "        embedding = np.asarray(values[1:], dtype='float32')\n",
        "        embeddings_index[word] = embedding\n",
        "\n",
        "print('Word embeddings:', len(embeddings_index))"
      ],
      "metadata": {
        "id": "a5YjgEYHh7EB"
      },
      "execution_count": null,
      "outputs": []
    },
    {
      "cell_type": "code",
      "source": [
        "# Encontrar el número de palabras que no estan en CN y que se utilizan más de N veces (threshold)\n",
        "\n",
        "#Las palabras que no estén en CN pueden añadirse a la matriz de word embeddings pero si son suficientemente comunes en los textos\n",
        "missing_words = 0\n",
        "threshold = 1\n",
        "\n",
        "for word, count in word_counts.items():\n",
        "    if count > threshold:\n",
        "        if word not in embeddings_index:\n",
        "            print(word)\n",
        "            missing_words += 1\n",
        "            \n",
        "missing_ratio = round(missing_words/len(word_counts),4)*100\n",
        "            \n",
        "print(\"Número de palabras que no están en el CN:\", missing_words)\n",
        "print(\"Porcentaje de palabras que no están en el CN: {}%\".format(missing_ratio))"
      ],
      "metadata": {
        "id": "7Onh2MaUrpdm"
      },
      "execution_count": null,
      "outputs": []
    },
    {
      "cell_type": "code",
      "source": [
        ""
      ],
      "metadata": {
        "id": "mWn0ZADVsBY3"
      },
      "execution_count": null,
      "outputs": []
    }
  ]
}